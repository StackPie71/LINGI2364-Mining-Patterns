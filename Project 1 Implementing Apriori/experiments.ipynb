{
 "cells": [
  {
   "cell_type": "code",
   "execution_count": 11,
   "metadata": {},
   "outputs": [],
   "source": [
    "from itertools import chain\n",
    "prev_candidates = [[\"B\", \"A\"], [\"A\", \"C\"], [\"D\", \"C\"]]\n",
    "items = sorted(frozenset(chain.from_iterable(prev_candidates)))"
   ]
  },
  {
   "cell_type": "code",
   "execution_count": 12,
   "metadata": {},
   "outputs": [
    {
     "data": {
      "text/plain": [
       "['A', 'B', 'C', 'D']"
      ]
     },
     "execution_count": 12,
     "metadata": {},
     "output_type": "execute_result"
    }
   ],
   "source": [
    "items"
   ]
  },
  {
   "cell_type": "code",
   "execution_count": 4,
   "metadata": {},
   "outputs": [
    {
     "name": "stderr",
     "output_type": "stream",
     "text": [
      "'frozenset' is not recognized as an internal or external command,\n",
      "operable program or batch file.\n"
     ]
    }
   ],
   "source": []
  },
  {
   "cell_type": "code",
   "execution_count": 14,
   "metadata": {},
   "outputs": [
    {
     "data": {
      "text/plain": [
       "False"
      ]
     },
     "execution_count": 14,
     "metadata": {},
     "output_type": "execute_result"
    }
   ],
   "source": [
    "x = [1, 2]\n",
    "z = [1, 2 2, 4]\n",
    "\n",
    "x in z"
   ]
  },
  {
   "cell_type": "code",
   "execution_count": 15,
   "metadata": {},
   "outputs": [
    {
     "data": {
      "text/plain": [
       "'1'"
      ]
     },
     "execution_count": 15,
     "metadata": {},
     "output_type": "execute_result"
    }
   ],
   "source": [
    "str(1)"
   ]
  },
  {
   "cell_type": "code",
   "execution_count": 16,
   "metadata": {},
   "outputs": [
    {
     "data": {
      "text/plain": [
       "'[1, 2, 2, 4]'"
      ]
     },
     "execution_count": 16,
     "metadata": {},
     "output_type": "execute_result"
    }
   ],
   "source": [
    "str(z)"
   ]
  },
  {
   "cell_type": "code",
   "execution_count": 18,
   "metadata": {},
   "outputs": [
    {
     "data": {
      "text/plain": [
       "'1224'"
      ]
     },
     "execution_count": 18,
     "metadata": {},
     "output_type": "execute_result"
    }
   ],
   "source": [
    "string = \"\"\n",
    "for num in z:\n",
    "    string += str(num)\n",
    "string"
   ]
  },
  {
   "cell_type": "code",
   "execution_count": 19,
   "metadata": {},
   "outputs": [
    {
     "data": {
      "text/plain": [
       "4"
      ]
     },
     "execution_count": 19,
     "metadata": {},
     "output_type": "execute_result"
    }
   ],
   "source": [
    "len(string)"
   ]
  },
  {
   "cell_type": "code",
   "execution_count": 20,
   "metadata": {},
   "outputs": [
    {
     "data": {
      "text/plain": [
       "'2'"
      ]
     },
     "execution_count": 20,
     "metadata": {},
     "output_type": "execute_result"
    }
   ],
   "source": [
    "string[1]"
   ]
  },
  {
   "cell_type": "code",
   "execution_count": 21,
   "metadata": {},
   "outputs": [],
   "source": [
    "X = None\n",
    "x.append(X)"
   ]
  },
  {
   "cell_type": "code",
   "execution_count": 22,
   "metadata": {},
   "outputs": [
    {
     "data": {
      "text/plain": [
       "[1, 2, None]"
      ]
     },
     "execution_count": 22,
     "metadata": {},
     "output_type": "execute_result"
    }
   ],
   "source": [
    "x"
   ]
  },
  {
   "cell_type": "code",
   "execution_count": 25,
   "metadata": {},
   "outputs": [
    {
     "data": {
      "text/plain": [
       "'4'"
      ]
     },
     "execution_count": 25,
     "metadata": {},
     "output_type": "execute_result"
    }
   ],
   "source": [
    "string[-1:]"
   ]
  },
  {
   "cell_type": "code",
   "execution_count": 26,
   "metadata": {},
   "outputs": [
    {
     "data": {
      "text/plain": [
       "'122'"
      ]
     },
     "execution_count": 26,
     "metadata": {},
     "output_type": "execute_result"
    }
   ],
   "source": [
    "string[:-1]"
   ]
  },
  {
   "cell_type": "code",
   "execution_count": 27,
   "metadata": {},
   "outputs": [],
   "source": [
    "string1 = \"abc\"\n",
    "string2 = \"def\"\n",
    "string3 = string1 + string2"
   ]
  },
  {
   "cell_type": "code",
   "execution_count": 15,
   "metadata": {},
   "outputs": [],
   "source": [
    "def to_string(list_to_convert):\n",
    "    \"\"\" Convert a list of item in a string ordered alphabetically/numericaly \"\"\"\n",
    "    string = \"\"\n",
    "    for item in list_to_convert:\n",
    "        string += str(item)\n",
    "\n",
    "    return string"
   ]
  },
  {
   "cell_type": "code",
   "execution_count": 51,
   "metadata": {},
   "outputs": [],
   "source": [
    "def generate_candidates(candidates):\n",
    "    \"\"\" Generate initial candidates b ycombining strings that are identical, except for the last symbol\"\"\"\n",
    "    itemset_str = []\n",
    "    for itemset in candidates:\n",
    "        itemset_str.append(to_string(sorted(itemset)))\n",
    "    \n",
    "    generated_candidates = []\n",
    "    for i in range(len(itemset_str)):\n",
    "        for j in range(len(itemset_str)):\n",
    "            if i != j:\n",
    "                if itemset_str[i][:-1] == itemset_str[j][:-1]:\n",
    "                    new_candidate = itemset_str[i][:-1] + itemset_str[i][-1] + itemset_str[j][-1]\n",
    "                    generated_candidates.append(new_candidate)\n",
    "\n",
    "    return generated_candidates"
   ]
  },
  {
   "cell_type": "code",
   "execution_count": 53,
   "metadata": {},
   "outputs": [
    {
     "name": "stdout",
     "output_type": "stream",
     "text": [
      "ABCD\n",
      "ABCE\n",
      "ABDC\n",
      "ABDE\n",
      "ABEC\n",
      "ABED\n"
     ]
    }
   ],
   "source": [
    "candi = [['A', 'B', 'C'], ['A', 'B', 'D'], ['A', 'B', 'E']]\n",
    "new_candi = generate_candidates(candi)"
   ]
  },
  {
   "cell_type": "code",
   "execution_count": 54,
   "metadata": {},
   "outputs": [
    {
     "data": {
      "text/plain": [
       "['ABCD', 'ABCE', 'ABDC', 'ABDE', 'ABEC', 'ABED']"
      ]
     },
     "execution_count": 54,
     "metadata": {},
     "output_type": "execute_result"
    }
   ],
   "source": [
    "new_candi"
   ]
  },
  {
   "cell_type": "code",
   "execution_count": 14,
   "metadata": {},
   "outputs": [],
   "source": [
    "def to_list(list_of_string):\n",
    "    \"\"\" Convert a list of string in a list of list of characters \"\"\"\n",
    "    listed = []\n",
    "    for item in list_of_string:\n",
    "        listed.append(sorted(item))\n",
    "\n",
    "    return listed"
   ]
  },
  {
   "cell_type": "code",
   "execution_count": 56,
   "metadata": {},
   "outputs": [
    {
     "data": {
      "text/plain": [
       "[['A', 'B', 'C', 'D'],\n",
       " ['A', 'B', 'C', 'E'],\n",
       " ['A', 'B', 'C', 'D'],\n",
       " ['A', 'B', 'D', 'E'],\n",
       " ['A', 'B', 'C', 'E'],\n",
       " ['A', 'B', 'D', 'E']]"
      ]
     },
     "execution_count": 56,
     "metadata": {},
     "output_type": "execute_result"
    }
   ],
   "source": [
    "to_list(new_candi)"
   ]
  },
  {
   "cell_type": "code",
   "execution_count": 57,
   "metadata": {},
   "outputs": [
    {
     "data": {
      "text/plain": [
       "True"
      ]
     },
     "execution_count": 57,
     "metadata": {},
     "output_type": "execute_result"
    }
   ],
   "source": [
    "'ab' in 'habc'"
   ]
  },
  {
   "cell_type": "code",
   "execution_count": 60,
   "metadata": {},
   "outputs": [
    {
     "data": {
      "text/plain": [
       "[1, 3, 5, 6]"
      ]
     },
     "execution_count": 60,
     "metadata": {},
     "output_type": "execute_result"
    }
   ],
   "source": [
    "test_list = [1, 5, 3, 6, 3, 5, 6, 1] \n",
    "test_list = list(set(test_list)) \n",
    "test_list"
   ]
  },
  {
   "cell_type": "code",
   "execution_count": 66,
   "metadata": {},
   "outputs": [
    {
     "data": {
      "text/plain": [
       "{'ABCD', 'ABCE', 'ABDC', 'ABDE', 'ABEC', 'ABED'}"
      ]
     },
     "execution_count": 66,
     "metadata": {},
     "output_type": "execute_result"
    }
   ],
   "source": [
    "set(new_candi)"
   ]
  },
  {
   "cell_type": "code",
   "execution_count": 71,
   "metadata": {},
   "outputs": [
    {
     "data": {
      "text/plain": [
       "['ab', 'ba', 'cb']"
      ]
     },
     "execution_count": 71,
     "metadata": {},
     "output_type": "execute_result"
    }
   ],
   "source": [
    "aa = ['ba', 'cb', 'ab']\n",
    "bb = ['21', '32', '12']\n",
    "sorted(aa)"
   ]
  },
  {
   "cell_type": "code",
   "execution_count": 73,
   "metadata": {},
   "outputs": [],
   "source": [
    "class Dataset:\n",
    "    \"\"\"Utility class to manage a dataset stored in a external file.\"\"\"\n",
    "\n",
    "    def __init__(self, filepath):\n",
    "        \"\"\"reads the dataset file and initializes files\"\"\"\n",
    "        self.transactions = list()\n",
    "        self.items = set()\n",
    "\n",
    "        try:\n",
    "            lines = [line.strip() for line in open(filepath, \"r\")]\n",
    "            lines = [line for line in lines if line]  # Skipping blank lines\n",
    "            for line in lines:\n",
    "                transaction = list(map(int, line.split(\" \")))\n",
    "                self.transactions.append(transaction)\n",
    "                for item in transaction:\n",
    "                    self.items.add(item)\n",
    "        except IOError as e:\n",
    "            print(\"Unable to read dataset file!\\n\" + e)\n",
    "\n",
    "    def trans_num(self):\n",
    "        \"\"\"Returns the number of transactions in the dataset\"\"\"\n",
    "        return len(self.transactions)\n",
    "\n",
    "    def items_num(self):\n",
    "        \"\"\"Returns the number of different items in the dataset\"\"\"\n",
    "        return len(self.items)\n",
    "\n",
    "    def get_transaction(self, i):\n",
    "        \"\"\"Returns the transaction at index i as an int array\"\"\"\n",
    "        return self.transactions[i]"
   ]
  },
  {
   "cell_type": "code",
   "execution_count": 74,
   "metadata": {},
   "outputs": [
    {
     "name": "stdout",
     "output_type": "stream",
     "text": [
      "[[1, 2, 3], [2, 3, 4], [3, 4, 5], [2, 3], [3, 4], [1, 2, 3, 4], [1, 2, 4], [5]]\n",
      "{1, 2, 3, 4, 5}\n"
     ]
    }
   ],
   "source": [
    "dataset_path = \"Datasets/toy.dat\"\n",
    "min_freq  = 0.125\n",
    "dataset = Dataset(\"Datasets/toy.dat\")\n",
    "print(dataset.transactions)\n",
    "print(dataset.items)"
   ]
  },
  {
   "cell_type": "code",
   "execution_count": 75,
   "metadata": {},
   "outputs": [],
   "source": [
    "def projected_database(D, I, minSupp):\n",
    "    transactions = []\n",
    "    dico = {str(item) : 0 for item in dataset.items}\n",
    "    I_str = to_string(I)\n",
    "    for D_transaction in D.transactions:\n",
    "        D_transaction_str = to_string(D_transaction)\n",
    "        if I_str in D_transaction_str:\n",
    "            transactions.append(D_transaction_str)\n",
    "            for item in dico:\n",
    "                if item in I_str:\n",
    "                    continue\n",
    "                if item in D_transaction_str:\n",
    "                    dico[item] += 1\n",
    "    # We keep only the frequent letters and delete the infrequent one from the transactions\n",
    "    new_database = []\n",
    "    for transaction in transactions:\n",
    "        new_transaction = []\n",
    "        for item in dico:\n",
    "            if dico[item] >= minSupp:\n",
    "                if item in transaction:\n",
    "                    new_transaction.append(item)\n",
    "        if new_transaction != []:\n",
    "            new_database.append(new_transaction)\n",
    "    D.transactions = new_database\n",
    "    \n",
    "    return D\n",
    "    \n",
    "                "
   ]
  },
  {
   "cell_type": "code",
   "execution_count": 78,
   "metadata": {},
   "outputs": [
    {
     "name": "stdout",
     "output_type": "stream",
     "text": [
      "[['2', '3'], ['2', '3', '4'], ['2', '4']]\n"
     ]
    }
   ],
   "source": [
    "print(projected_database(dataset, [1], 0.5).transactions)"
   ]
  },
  {
   "cell_type": "code",
   "execution_count": null,
   "metadata": {},
   "outputs": [],
   "source": [
    "def dfs(I, D, minSupp):\n",
    "    "
   ]
  },
  {
   "cell_type": "code",
   "execution_count": null,
   "metadata": {},
   "outputs": [],
   "source": [
    "def depth_first_search(filepath, minFrequency):\n",
    "    dataset = Dataset(filepath)\n",
    "    minSupport = minFrequency * dataset.trans_num()\n",
    "    "
   ]
  },
  {
   "cell_type": "code",
   "execution_count": 80,
   "metadata": {},
   "outputs": [
    {
     "data": {
      "text/plain": [
       "set"
      ]
     },
     "execution_count": 80,
     "metadata": {},
     "output_type": "execute_result"
    }
   ],
   "source": [
    "type(dataset.items)"
   ]
  },
  {
   "cell_type": "code",
   "execution_count": 85,
   "metadata": {},
   "outputs": [
    {
     "data": {
      "image/png": "[encoded data removed]",
      "text/plain": [
       "<Figure size 432x288 with 1 Axes>"
      ]
     },
     "metadata": {
      "needs_background": "light"
     },
     "output_type": "display_data"
    }
   ],
   "source": [
    "import matplotlib.pyplot as plt\n",
    "\n",
    "plt.figure()\n",
    "\n",
    "x = [1, 0.95, 0.925, 0.9, 0.85, 0.8, 0.75]\n",
    "y = [0.07, 0.97, 4.14, 11.4, 50, 186, 538]\n",
    "\n",
    "plt.plot(x,y)    \n",
    "    \n",
    "plt.title(\"Time evolution of Apriori on chess dataset\")    \n",
    "plt.ylabel('Time [s]')    \n",
    "plt.xlabel('minFrequency')    \n",
    "plt.show()    "
   ]
  },
  {
   "cell_type": "code",
   "execution_count": null,
   "metadata": {},
   "outputs": [],
   "source": []
  }
 ],
 "metadata": {
  "kernelspec": {
   "display_name": "Python 3",
   "language": "python",
   "name": "python3"
  },
  "language_info": {
   "codemirror_mode": {
    "name": "ipython",
    "version": 3
   },
   "file_extension": ".py",
   "mimetype": "text/x-python",
   "name": "python",
   "nbconvert_exporter": "python",
   "pygments_lexer": "ipython3",
   "version": "3.8.5"
  }
 },
 "nbformat": 4,
 "nbformat_minor": 4
}
