{
 "cells": [
  {
   "cell_type": "code",
   "execution_count": 2,
   "metadata": {},
   "outputs": [],
   "source": [
    "import numpy as np\n",
    "import pandas as pd\n",
    "import matplotlib.pyplot as plt"
   ]
  },
  {
   "cell_type": "code",
   "execution_count": 27,
   "metadata": {},
   "outputs": [],
   "source": [
    "f1 = open(\"q1_print.txt\", \"r\")\n",
    "data_q1 = f1.readlines()\n",
    "\n",
    "f2 = open(\"q2.txt\", \"r\")\n",
    "data_q2 = f2.readlines()\n",
    "\n",
    "f3 = open('q3.txt', \"r\")\n",
    "data_q3 = f3.readlines()\n",
    "\n",
    "f4a = open('q4.txt', \"r\")\n",
    "data_qa4 = f4a.readlines()\n",
    "\n",
    "f4b = open('q4_IG.txt', \"r\")\n",
    "data_q4b = f4b.readlines()"
   ]
  },
  {
   "cell_type": "code",
   "execution_count": 28,
   "metadata": {},
   "outputs": [],
   "source": [
    "def average_len(data):\n",
    "    results = []\n",
    "    bad_char = ['[', ' ', ',', ']']\n",
    "    for line in data:\n",
    "        counter = 0\n",
    "        for char in line:\n",
    "            if char not in bad_char:\n",
    "                counter += 1\n",
    "            if char == ']':\n",
    "                break\n",
    "        results.append(counter)\n",
    "    return np.mean(results)"
   ]
  },
  {
   "cell_type": "code",
   "execution_count": 29,
   "metadata": {},
   "outputs": [],
   "source": [
    "def number_seq(data):\n",
    "    counter = 0\n",
    "    for line in data:\n",
    "        counter += 1\n",
    "        \n",
    "    return counter"
   ]
  },
  {
   "cell_type": "code",
   "execution_count": 183,
   "metadata": {},
   "outputs": [],
   "source": [
    "def best_metric1(data):\n",
    "    results = []\n",
    "    for line in data:\n",
    "        line = list(line)\n",
    "        results.append(float(line[len(line) - 2]))\n",
    "    store = [np.min(results), np.max(results), np.mean(results)]\n",
    "    \n",
    "    return store"
   ]
  },
  {
   "cell_type": "code",
   "execution_count": 196,
   "metadata": {},
   "outputs": [],
   "source": [
    "def best_metric(data):\n",
    "    results = []\n",
    "    for line in data:\n",
    "        line = line[-7:-2]\n",
    "        results.append(float(line))\n",
    "    store = [np.min(results), np.max(results), np.mean(results)]\n",
    "    \n",
    "    return store"
   ]
  },
  {
   "cell_type": "code",
   "execution_count": 197,
   "metadata": {},
   "outputs": [
    {
     "name": "stdout",
     "output_type": "stream",
     "text": [
      "3.0833333333333335\n",
      "48\n",
      "[2.0, 7.0, 3.5]\n"
     ]
    }
   ],
   "source": [
    "# Q1\n",
    "average_q1 = average_len(data_q1)\n",
    "len_q1 = number_seq(data_q1)\n",
    "score_q1 =  best_metric1(data_q1)\n",
    "print(average_q1)\n",
    "print(len_q1)\n",
    "print(score_q1)"
   ]
  },
  {
   "cell_type": "code",
   "execution_count": 198,
   "metadata": {},
   "outputs": [
    {
     "name": "stdout",
     "output_type": "stream",
     "text": [
      "3.975\n",
      "40\n",
      "[0.0612, 0.1836, 0.09384]\n"
     ]
    }
   ],
   "source": [
    "# Q2\n",
    "average_q2 = average_len(data_q2)\n",
    "len_q2 = number_seq(data_q2)\n",
    "score_q2 =  best_metric(data_q2)\n",
    "print(average_q2)\n",
    "print(len_q2)\n",
    "print(score_q2)"
   ]
  },
  {
   "cell_type": "code",
   "execution_count": 199,
   "metadata": {},
   "outputs": [
    {
     "name": "stdout",
     "output_type": "stream",
     "text": [
      "4.2727272727272725\n",
      "11\n",
      "[0.0408, 0.1836, 0.08716363636363636]\n"
     ]
    }
   ],
   "source": [
    "# Q3\n",
    "average_q3 = average_len(data_q3)\n",
    "len_q3 = number_seq(data_q3)\n",
    "score_q3 =  best_metric(data_q3)\n",
    "print(average_q3)\n",
    "print(len_q3)\n",
    "print(score_q3)"
   ]
  },
  {
   "cell_type": "code",
   "execution_count": 200,
   "metadata": {},
   "outputs": [
    {
     "name": "stdout",
     "output_type": "stream",
     "text": [
      "4.1\n",
      "20\n",
      "[0.0612, 0.1836, 0.1071]\n"
     ]
    }
   ],
   "source": [
    "# Q4a\n",
    "average_q4a = average_len(data_qa4)\n",
    "len_q4a = number_seq(data_qa4)\n",
    "score_q4a =  best_metric(data_qa4)\n",
    "print(average_q4a)\n",
    "print(len_q4a)\n",
    "print(score_q4a)"
   ]
  },
  {
   "cell_type": "code",
   "execution_count": 201,
   "metadata": {},
   "outputs": [
    {
     "name": "stdout",
     "output_type": "stream",
     "text": [
      "4.0\n",
      "23\n",
      "[0.0202, 0.5216, 0.21427826086956522]\n"
     ]
    }
   ],
   "source": [
    "# Qab\n",
    "average_q4b = average_len(data_q4b)\n",
    "len_q4b = number_seq(data_q4b)\n",
    "score_q4b =  best_metric(data_q4b)\n",
    "print(average_q4b)\n",
    "print(len_q4b)\n",
    "print(score_q4b)"
   ]
  },
  {
   "cell_type": "code",
   "execution_count": 113,
   "metadata": {},
   "outputs": [
    {
     "data": {
      "image/png": "[encoded data removed]",
      "text/plain": [
       "<Figure size 432x288 with 1 Axes>"
      ]
     },
     "metadata": {},
     "output_type": "display_data"
    }
   ],
   "source": [
    "# Create data\n",
    "height = [len_q1, len_q2, len_q3, len_q4a, len_q4b]\n",
    "bars = ('PrefixSpan', 'Wracc', 'Closed Wracc',\n",
    "        'Closed Abs. Wracc', 'Closed IG')\n",
    "x_pos = np.arange(len(bars))\n",
    " \n",
    "# Create bars\n",
    "plt.bar(x_pos, height)\n",
    "\n",
    "plt.title('Number of sequences (the small dataset)')\n",
    " \n",
    "# Rotation of the bar names\n",
    "plt.xticks(x_pos, bars, rotation=90)\n",
    " \n",
    "# Custom the subplot layout\n",
    "plt.subplots_adjust(bottom=0.4, top=0.99)\n",
    " \n",
    "# Show graphic\n",
    "plt.show()"
   ]
  },
  {
   "cell_type": "code",
   "execution_count": 114,
   "metadata": {},
   "outputs": [
    {
     "data": {
      "image/png": "[encoded data removed]",
      "text/plain": [
       "<Figure size 432x288 with 1 Axes>"
      ]
     },
     "metadata": {},
     "output_type": "display_data"
    }
   ],
   "source": [
    "# Create data\n",
    "height = [average_q1, average_q2, average_q3, average_q4a, average_q4b]\n",
    "bars = ('PrefixSpan', 'Wracc', 'Closed Wracc',\n",
    "        'Closed Abs. Wracc', 'Closed IG')\n",
    "x_pos = np.arange(len(bars))\n",
    " \n",
    "# Create bars\n",
    "plt.bar(x_pos, height)\n",
    "\n",
    "plt.title('Average sequences length (the small dataset)')\n",
    " \n",
    "# Rotation of the bar names\n",
    "plt.xticks(x_pos, bars, rotation=90)\n",
    " \n",
    "# Custom the subplot layout\n",
    "plt.subplots_adjust(bottom=0.4, top=0.99)\n",
    " \n",
    "# Show graphic\n",
    "plt.show()"
   ]
  },
  {
   "cell_type": "code",
   "execution_count": 211,
   "metadata": {},
   "outputs": [],
   "source": [
    "f1l = open(\"q1_print_large.txt\", \"r\")\n",
    "data_q1l = f1l.readlines()\n",
    "\n",
    "f2l = open(\"q2_large.txt\", \"r\")\n",
    "data_q2l = f2l.readlines()\n",
    "\n",
    "f3l = open('q3_large.txt', \"r\")\n",
    "data_q3l = f3l.readlines()\n",
    "\n",
    "f4al = open('q4_large.txt', \"r\")\n",
    "data_qa4l = f4al.readlines()\n",
    "\n",
    "# f4bl = open('q4_IG_large.txt', \"r\")\n",
    "# data_q4bl = f4bl.readlines()"
   ]
  },
  {
   "cell_type": "code",
   "execution_count": 212,
   "metadata": {},
   "outputs": [
    {
     "name": "stdout",
     "output_type": "stream",
     "text": [
      "1.2727272727272727\n",
      "22\n",
      "[0.0, 9.0, 4.954545454545454]\n"
     ]
    }
   ],
   "source": [
    "# Q1\n",
    "average_q1l = average_len(data_q1l)\n",
    "len_q1l = number_seq(data_q1l)\n",
    "score_q1l =  best_metric1(data_q1l)\n",
    "print(average_q1l)\n",
    "print(len_q1l)\n",
    "print(score_q1l)"
   ]
  },
  {
   "cell_type": "code",
   "execution_count": 213,
   "metadata": {},
   "outputs": [
    {
     "name": "stdout",
     "output_type": "stream",
     "text": [
      "2.65\n",
      "20\n",
      "[0.0615, 0.166, 0.08877500000000002]\n"
     ]
    }
   ],
   "source": [
    "# Q2\n",
    "average_q2l = average_len(data_q2l)\n",
    "len_q2l = number_seq(data_q2l)\n",
    "score_q2l =  best_metric(data_q2l)\n",
    "print(average_q2l)\n",
    "print(len_q2l)\n",
    "print(score_q2l)"
   ]
  },
  {
   "cell_type": "code",
   "execution_count": 214,
   "metadata": {},
   "outputs": [
    {
     "name": "stdout",
     "output_type": "stream",
     "text": [
      "2.0\n",
      "20\n",
      "[0.0807, 0.1833, 0.10603499999999999]\n"
     ]
    }
   ],
   "source": [
    "# Q3\n",
    "average_q3l = average_len(data_q3l)\n",
    "len_q3l = number_seq(data_q3l)\n",
    "score_q3l =  best_metric(data_q3l)\n",
    "print(average_q3l)\n",
    "print(len_q3l)\n",
    "print(score_q3l)"
   ]
  },
  {
   "cell_type": "code",
   "execution_count": 215,
   "metadata": {},
   "outputs": [
    {
     "name": "stdout",
     "output_type": "stream",
     "text": [
      "2.05\n",
      "20\n",
      "[0.0923, 0.1833, 0.11833]\n"
     ]
    }
   ],
   "source": [
    "# Q4a\n",
    "average_q4al = average_len(data_qa4l)\n",
    "len_q4al = number_seq(data_qa4l)\n",
    "score_q4al =  best_metric(data_qa4l)\n",
    "print(average_q4al)\n",
    "print(len_q4al)\n",
    "print(score_q4al)"
   ]
  },
  {
   "cell_type": "code",
   "execution_count": 216,
   "metadata": {},
   "outputs": [],
   "source": [
    "# # Qab\n",
    "# average_q4bl = average_len(data_q4bl)\n",
    "# len_q4bl = number_seq(data_q4bl)\n",
    "# score_q4bl =  best_metric(data_q4bl)\n",
    "# print(score_q4bl)"
   ]
  },
  {
   "cell_type": "code",
   "execution_count": null,
   "metadata": {},
   "outputs": [],
   "source": []
  },
  {
   "cell_type": "code",
   "execution_count": null,
   "metadata": {},
   "outputs": [],
   "source": []
  }
 ],
 "metadata": {
  "kernelspec": {
   "display_name": "Python 3",
   "language": "python",
   "name": "python3"
  },
  "language_info": {
   "codemirror_mode": {
    "name": "ipython",
    "version": 3
   },
   "file_extension": ".py",
   "mimetype": "text/x-python",
   "name": "python",
   "nbconvert_exporter": "python",
   "pygments_lexer": "ipython3",
   "version": "3.8.5"
  }
 },
 "nbformat": 4,
 "nbformat_minor": 4
}
